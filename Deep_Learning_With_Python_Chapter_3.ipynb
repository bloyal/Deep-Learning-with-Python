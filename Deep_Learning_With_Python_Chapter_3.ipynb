{
  "nbformat": 4,
  "nbformat_minor": 0,
  "metadata": {
    "colab": {
      "name": "Deep_Learning_With_Python-Chapter_3.ipynb",
      "provenance": [],
      "collapsed_sections": [],
      "authorship_tag": "ABX9TyOeQNPhYqZlkgyAYxQ1LNeP",
      "include_colab_link": true
    },
    "kernelspec": {
      "name": "python3",
      "display_name": "Python 3"
    },
    "language_info": {
      "name": "python"
    }
  },
  "cells": [
    {
      "cell_type": "markdown",
      "metadata": {
        "id": "view-in-github",
        "colab_type": "text"
      },
      "source": [
        "<a href=\"https://colab.research.google.com/github/bloyal/Deep-Learning-with-Python/blob/main/Deep_Learning_With_Python_Chapter_3.ipynb\" target=\"_parent\"><img src=\"https://colab.research.google.com/assets/colab-badge.svg\" alt=\"Open In Colab\"/></a>"
      ]
    },
    {
      "cell_type": "code",
      "metadata": {
        "id": "2z_x4tdhjxYB"
      },
      "source": [
        "import tensorflow as tf"
      ],
      "execution_count": null,
      "outputs": []
    },
    {
      "cell_type": "markdown",
      "metadata": {
        "id": "RzlmSEU3k3ll"
      },
      "source": [
        "## Constant tensors and Variables"
      ]
    },
    {
      "cell_type": "code",
      "metadata": {
        "colab": {
          "base_uri": "https://localhost:8080/"
        },
        "id": "aFuAwthYj5fr",
        "outputId": "8c206017-e727-4a6a-d798-e4812ba38f6a"
      },
      "source": [
        "x = tf.ones(shape=(2,1))\n",
        "print(x)"
      ],
      "execution_count": null,
      "outputs": [
        {
          "output_type": "stream",
          "text": [
            "tf.Tensor(\n",
            "[[1.]\n",
            " [1.]], shape=(2, 1), dtype=float32)\n"
          ],
          "name": "stdout"
        }
      ]
    },
    {
      "cell_type": "code",
      "metadata": {
        "colab": {
          "base_uri": "https://localhost:8080/"
        },
        "id": "egg7KzESkAKC",
        "outputId": "69a1ee4e-782d-4c8e-a751-597ebdc64f92"
      },
      "source": [
        "x = tf.zeros([2,1])\n",
        "print(x)"
      ],
      "execution_count": null,
      "outputs": [
        {
          "output_type": "stream",
          "text": [
            "tf.Tensor(\n",
            "[[0.]\n",
            " [0.]], shape=(2, 1), dtype=float32)\n"
          ],
          "name": "stdout"
        }
      ]
    },
    {
      "cell_type": "code",
      "metadata": {
        "colab": {
          "base_uri": "https://localhost:8080/"
        },
        "id": "c0C9haLCkBTg",
        "outputId": "d44aa1ce-90ee-4ba9-bdbe-4c00b01b6ea2"
      },
      "source": [
        "x = tf.random.normal([3,1], mean=0., stddev=1.)\n",
        "print(x)"
      ],
      "execution_count": null,
      "outputs": [
        {
          "output_type": "stream",
          "text": [
            "tf.Tensor(\n",
            "[[-0.04074255]\n",
            " [-0.86131895]\n",
            " [-0.92778087]], shape=(3, 1), dtype=float32)\n"
          ],
          "name": "stdout"
        }
      ]
    },
    {
      "cell_type": "code",
      "metadata": {
        "colab": {
          "base_uri": "https://localhost:8080/"
        },
        "id": "7kyBd5p4kV9X",
        "outputId": "23b97c9d-d02e-4291-8da0-db34cb997ccf"
      },
      "source": [
        "x = tf.random.uniform([3,1], minval=0., maxval=1.)\n",
        "print(x)"
      ],
      "execution_count": null,
      "outputs": [
        {
          "output_type": "stream",
          "text": [
            "tf.Tensor(\n",
            "[[0.8034723 ]\n",
            " [0.46863544]\n",
            " [0.97719336]], shape=(3, 1), dtype=float32)\n"
          ],
          "name": "stdout"
        }
      ]
    },
    {
      "cell_type": "code",
      "metadata": {
        "id": "yJY62fH8kfwM"
      },
      "source": [
        "import numpy as np"
      ],
      "execution_count": null,
      "outputs": []
    },
    {
      "cell_type": "markdown",
      "metadata": {
        "id": "--rumNBZk91d"
      },
      "source": [
        "Tf tensors aren't assignable, like Numpy arrays"
      ]
    },
    {
      "cell_type": "code",
      "metadata": {
        "colab": {
          "base_uri": "https://localhost:8080/"
        },
        "id": "tOS_E3jMkmH-",
        "outputId": "407f75dc-a8d0-4b73-c01d-ed6b5a96649d"
      },
      "source": [
        "x = np.ones(shape=(2,2))\n",
        "print(x)\n",
        "x[0,0] = 2\n",
        "print(x)"
      ],
      "execution_count": null,
      "outputs": [
        {
          "output_type": "stream",
          "text": [
            "[[1. 1.]\n",
            " [1. 1.]]\n",
            "[[2. 1.]\n",
            " [1. 1.]]\n"
          ],
          "name": "stdout"
        }
      ]
    },
    {
      "cell_type": "code",
      "metadata": {
        "colab": {
          "base_uri": "https://localhost:8080/",
          "height": 181
        },
        "id": "UjyiuJe9kprz",
        "outputId": "08d988f6-0ded-4528-d947-533fa62d1d88"
      },
      "source": [
        "x = tf.ones([2,2])\n",
        "x[0,0]=2"
      ],
      "execution_count": null,
      "outputs": [
        {
          "output_type": "error",
          "ename": "TypeError",
          "evalue": "ignored",
          "traceback": [
            "\u001b[0;31m---------------------------------------------------------------------------\u001b[0m",
            "\u001b[0;31mTypeError\u001b[0m                                 Traceback (most recent call last)",
            "\u001b[0;32m<ipython-input-19-324665e703d6>\u001b[0m in \u001b[0;36m<module>\u001b[0;34m()\u001b[0m\n\u001b[1;32m      1\u001b[0m \u001b[0mx\u001b[0m \u001b[0;34m=\u001b[0m \u001b[0mtf\u001b[0m\u001b[0;34m.\u001b[0m\u001b[0mones\u001b[0m\u001b[0;34m(\u001b[0m\u001b[0;34m[\u001b[0m\u001b[0;36m2\u001b[0m\u001b[0;34m,\u001b[0m\u001b[0;36m2\u001b[0m\u001b[0;34m]\u001b[0m\u001b[0;34m)\u001b[0m\u001b[0;34m\u001b[0m\u001b[0;34m\u001b[0m\u001b[0m\n\u001b[0;32m----> 2\u001b[0;31m \u001b[0mx\u001b[0m\u001b[0;34m[\u001b[0m\u001b[0;36m0\u001b[0m\u001b[0;34m,\u001b[0m\u001b[0;36m0\u001b[0m\u001b[0;34m]\u001b[0m\u001b[0;34m=\u001b[0m\u001b[0;36m2\u001b[0m\u001b[0;34m\u001b[0m\u001b[0;34m\u001b[0m\u001b[0m\n\u001b[0m",
            "\u001b[0;31mTypeError\u001b[0m: 'tensorflow.python.framework.ops.EagerTensor' object does not support item assignment"
          ]
        }
      ]
    },
    {
      "cell_type": "code",
      "metadata": {
        "id": "FJ_J5XErkxNb"
      },
      "source": [
        ""
      ],
      "execution_count": null,
      "outputs": []
    },
    {
      "cell_type": "markdown",
      "metadata": {
        "id": "MLAmiFuQlFt_"
      },
      "source": [
        "Need to create a tf.Variable instead"
      ]
    },
    {
      "cell_type": "code",
      "metadata": {
        "colab": {
          "base_uri": "https://localhost:8080/"
        },
        "id": "d3cJO4ynlHd7",
        "outputId": "b72d44b5-53fd-4ab8-d6a6-f69cfa9be06d"
      },
      "source": [
        "v = tf.Variable(initial_value=tf.random.normal([3,1]))\n",
        "print(v)"
      ],
      "execution_count": null,
      "outputs": [
        {
          "output_type": "stream",
          "text": [
            "<tf.Variable 'Variable:0' shape=(3, 1) dtype=float32, numpy=\n",
            "array([[ 0.3999954 ],\n",
            "       [ 0.67826897],\n",
            "       [-0.68156683]], dtype=float32)>\n"
          ],
          "name": "stdout"
        }
      ]
    },
    {
      "cell_type": "code",
      "metadata": {
        "colab": {
          "base_uri": "https://localhost:8080/"
        },
        "id": "f81SUxcElOLi",
        "outputId": "41328832-c223-4863-bec4-d54d796f115e"
      },
      "source": [
        "v.assign(tf.ones((3,1)))"
      ],
      "execution_count": null,
      "outputs": [
        {
          "output_type": "execute_result",
          "data": {
            "text/plain": [
              "<tf.Variable 'UnreadVariable' shape=(3, 1) dtype=float32, numpy=\n",
              "array([[1.],\n",
              "       [1.],\n",
              "       [1.]], dtype=float32)>"
            ]
          },
          "metadata": {
            "tags": []
          },
          "execution_count": 22
        }
      ]
    },
    {
      "cell_type": "code",
      "metadata": {
        "colab": {
          "base_uri": "https://localhost:8080/"
        },
        "id": "D54FRvKWlYG0",
        "outputId": "e8ba9602-d56e-4725-c22a-fa296430395f"
      },
      "source": [
        "v[0,0].assign(3.)"
      ],
      "execution_count": null,
      "outputs": [
        {
          "output_type": "execute_result",
          "data": {
            "text/plain": [
              "<tf.Variable 'UnreadVariable' shape=(3, 1) dtype=float32, numpy=\n",
              "array([[3.],\n",
              "       [1.],\n",
              "       [1.]], dtype=float32)>"
            ]
          },
          "metadata": {
            "tags": []
          },
          "execution_count": 23
        }
      ]
    },
    {
      "cell_type": "code",
      "metadata": {
        "colab": {
          "base_uri": "https://localhost:8080/"
        },
        "id": "B8yPDHxblcZZ",
        "outputId": "9d09a67b-bed1-4402-c12d-e89805e31b3e"
      },
      "source": [
        "v.assign_add(tf.ones((3,1)))"
      ],
      "execution_count": null,
      "outputs": [
        {
          "output_type": "execute_result",
          "data": {
            "text/plain": [
              "<tf.Variable 'UnreadVariable' shape=(3, 1) dtype=float32, numpy=\n",
              "array([[4.],\n",
              "       [2.],\n",
              "       [2.]], dtype=float32)>"
            ]
          },
          "metadata": {
            "tags": []
          },
          "execution_count": 24
        }
      ]
    },
    {
      "cell_type": "code",
      "metadata": {
        "id": "BI3ev3r-lhWz"
      },
      "source": [
        ""
      ],
      "execution_count": null,
      "outputs": []
    },
    {
      "cell_type": "markdown",
      "metadata": {
        "id": "EHGqiA2hlliC"
      },
      "source": [
        "Doing math in TensorFlow"
      ]
    },
    {
      "cell_type": "code",
      "metadata": {
        "colab": {
          "base_uri": "https://localhost:8080/"
        },
        "id": "-jFHXLfslnm5",
        "outputId": "13df7963-b3f3-4770-da8d-5067f3006a4a"
      },
      "source": [
        "a = tf.ones((2,2)) * 2\n",
        "print (a)\n",
        "b = tf.square(a)\n",
        "print(b)\n",
        "c = tf.sqrt(b)\n",
        "print(c)\n",
        "d = b + c\n",
        "print(d)\n",
        "e = tf.matmul(a,b)\n",
        "print(e)\n",
        "e *= d\n",
        "print(e)"
      ],
      "execution_count": null,
      "outputs": [
        {
          "output_type": "stream",
          "text": [
            "tf.Tensor(\n",
            "[[2. 2.]\n",
            " [2. 2.]], shape=(2, 2), dtype=float32)\n",
            "tf.Tensor(\n",
            "[[4. 4.]\n",
            " [4. 4.]], shape=(2, 2), dtype=float32)\n",
            "tf.Tensor(\n",
            "[[2. 2.]\n",
            " [2. 2.]], shape=(2, 2), dtype=float32)\n",
            "tf.Tensor(\n",
            "[[6. 6.]\n",
            " [6. 6.]], shape=(2, 2), dtype=float32)\n",
            "tf.Tensor(\n",
            "[[16. 16.]\n",
            " [16. 16.]], shape=(2, 2), dtype=float32)\n",
            "tf.Tensor(\n",
            "[[96. 96.]\n",
            " [96. 96.]], shape=(2, 2), dtype=float32)\n"
          ],
          "name": "stdout"
        }
      ]
    },
    {
      "cell_type": "markdown",
      "metadata": {
        "id": "HBwFDKxOmPvm"
      },
      "source": [
        "## GradientTape API"
      ]
    },
    {
      "cell_type": "markdown",
      "metadata": {
        "id": "tbmFgbNKmplv"
      },
      "source": [
        "(In this example, result = X^2 and gradient = 2*X)"
      ]
    },
    {
      "cell_type": "code",
      "metadata": {
        "colab": {
          "base_uri": "https://localhost:8080/"
        },
        "id": "4L7-RQH1lxfW",
        "outputId": "b156ab56-cc73-4434-a797-788c6262310c"
      },
      "source": [
        "input_var = tf.Variable(initial_value=3.)\n",
        "print(input_var)\n",
        "with tf.GradientTape() as tape:\n",
        "  result = tf.square(input_var)\n",
        "gradient = tape.gradient(result, input_var)\n",
        "print(gradient)"
      ],
      "execution_count": null,
      "outputs": [
        {
          "output_type": "stream",
          "text": [
            "<tf.Variable 'Variable:0' shape=() dtype=float32, numpy=3.0>\n",
            "tf.Tensor(6.0, shape=(), dtype=float32)\n"
          ],
          "name": "stdout"
        }
      ]
    },
    {
      "cell_type": "markdown",
      "metadata": {
        "id": "Q60yeuDbm0pL"
      },
      "source": [
        "Watching constant tensor inputs"
      ]
    },
    {
      "cell_type": "code",
      "metadata": {
        "colab": {
          "base_uri": "https://localhost:8080/"
        },
        "id": "_7nM-2Elm2zS",
        "outputId": "f00324e1-ffbf-44a8-9c69-1dd354786507"
      },
      "source": [
        "input_const = tf.constant(3.)\n",
        "with tf.GradientTape() as tape:\n",
        "  tape.watch(input_const)\n",
        "  result = tf.square(input_const)\n",
        "gradient = tape.gradient(result, input_const)\n",
        "print(input_const)\n",
        "print(gradient)"
      ],
      "execution_count": null,
      "outputs": [
        {
          "output_type": "stream",
          "text": [
            "tf.Tensor(3.0, shape=(), dtype=float32)\n",
            "tf.Tensor(6.0, shape=(), dtype=float32)\n"
          ],
          "name": "stdout"
        }
      ]
    },
    {
      "cell_type": "markdown",
      "metadata": {
        "id": "ypKO9DbZnRd7"
      },
      "source": [
        "Computing second-order gradients (i.e. second derivatives)"
      ]
    },
    {
      "cell_type": "code",
      "metadata": {
        "colab": {
          "base_uri": "https://localhost:8080/"
        },
        "id": "nC6BaPbcnJ80",
        "outputId": "f3f72d20-6307-4fc8-9bd5-2c74658b07d8"
      },
      "source": [
        "time = tf.Variable(0.)\n",
        "with tf.GradientTape() as outer_tape:\n",
        "  with tf.GradientTape() as inner_tape:\n",
        "    position = 4.9 * time ** 2\n",
        "  speed = inner_tape.gradient(position, time)\n",
        "acceleration = outer_tape.gradient(speed, time)\n",
        "print(\"Time is {time:.2f}\".format(time=2))\n",
        "print(speed)\n",
        "print(position)\n",
        "print(acceleration)"
      ],
      "execution_count": null,
      "outputs": [
        {
          "output_type": "stream",
          "text": [
            "Time is 2.00\n",
            "tf.Tensor(0.0, shape=(), dtype=float32)\n",
            "tf.Tensor(0.0, shape=(), dtype=float32)\n",
            "tf.Tensor(9.8, shape=(), dtype=float32)\n"
          ],
          "name": "stdout"
        }
      ]
    },
    {
      "cell_type": "markdown",
      "metadata": {
        "id": "s6EbfyEctiFi"
      },
      "source": [
        "## E2E linear classifier in pure TF"
      ]
    },
    {
      "cell_type": "markdown",
      "metadata": {
        "id": "0Gvc3_aptnzx"
      },
      "source": [
        "Create some random data"
      ]
    },
    {
      "cell_type": "code",
      "metadata": {
        "id": "B9r3AJPYnxhF",
        "colab": {
          "base_uri": "https://localhost:8080/"
        },
        "outputId": "db73ac15-c463-44b4-cf54-85f43e1a4a3c"
      },
      "source": [
        "num_samples_per_class = 1000\n",
        "negative_samples = np.random.multivariate_normal(mean=[0,3], cov=[[1, 0.5],[0.5,1]], size=num_samples_per_class)\n",
        "positive_samples = np.random.multivariate_normal(mean=[3,0], cov=[[1, 0.5],[0.5,1]], size=num_samples_per_class)\n",
        "print(negative_samples)\n",
        "print(positive_samples)\n",
        "inputs = np.vstack((negative_samples, positive_samples)).astype(np.float32)\n",
        "print(inputs)"
      ],
      "execution_count": null,
      "outputs": [
        {
          "output_type": "stream",
          "text": [
            "[[-2.33882937  2.41639849]\n",
            " [-0.90609198  3.08401176]\n",
            " [ 0.98994403  5.10001438]\n",
            " ...\n",
            " [-0.88342235  1.0872762 ]\n",
            " [ 0.42730425  2.54146549]\n",
            " [ 0.73674857  4.55353703]]\n",
            "[[ 3.08179803 -1.35761034]\n",
            " [ 2.12731715 -0.82112862]\n",
            " [ 3.17570556 -0.23723698]\n",
            " ...\n",
            " [ 1.91428053 -0.97611883]\n",
            " [ 2.28122322  0.35519827]\n",
            " [ 3.35230567 -0.40217616]]\n",
            "[[-2.3388293   2.4163985 ]\n",
            " [-0.906092    3.0840118 ]\n",
            " [ 0.98994404  5.100014  ]\n",
            " ...\n",
            " [ 1.9142805  -0.9761188 ]\n",
            " [ 2.2812233   0.35519826]\n",
            " [ 3.3523057  -0.40217617]]\n"
          ],
          "name": "stdout"
        }
      ]
    },
    {
      "cell_type": "markdown",
      "metadata": {
        "id": "RZC0ErmyuhX4"
      },
      "source": [
        "Generate target labels"
      ]
    },
    {
      "cell_type": "code",
      "metadata": {
        "colab": {
          "base_uri": "https://localhost:8080/"
        },
        "id": "9QEmy5PyuGlc",
        "outputId": "4e923053-4a4e-4393-c4e3-acddb2a7f298"
      },
      "source": [
        "targets = np.vstack((np.zeros((num_samples_per_class, 1), dtype='float32'),\n",
        "                     np.ones((num_samples_per_class, 1), dtype='float32')))\n",
        "print(targets)"
      ],
      "execution_count": null,
      "outputs": [
        {
          "output_type": "stream",
          "text": [
            "[[0.]\n",
            " [0.]\n",
            " [0.]\n",
            " ...\n",
            " [1.]\n",
            " [1.]\n",
            " [1.]]\n"
          ],
          "name": "stdout"
        }
      ]
    },
    {
      "cell_type": "markdown",
      "metadata": {
        "id": "fK1w3xasu5tB"
      },
      "source": [
        "Plot input data"
      ]
    },
    {
      "cell_type": "code",
      "metadata": {
        "colab": {
          "base_uri": "https://localhost:8080/",
          "height": 266
        },
        "id": "SXrRpdrmuyE_",
        "outputId": "309938c8-4425-4245-813d-661726cce59e"
      },
      "source": [
        "import matplotlib.pyplot as plt\n",
        "plt.scatter(inputs[:,0], inputs[:,1], c=targets[:,0])\n",
        "plt.show()"
      ],
      "execution_count": null,
      "outputs": [
        {
          "output_type": "display_data",
          "data": {
            "image/png": "[encoded data removed]",
            "text/plain": [
              "<Figure size 432x288 with 1 Axes>"
            ]
          },
          "metadata": {
            "tags": [],
            "needs_background": "light"
          }
        }
      ]
    },
    {
      "cell_type": "markdown",
      "metadata": {
        "id": "DSgS5Quv6mIi"
      },
      "source": [
        "Create the variables needed for the linear classifier"
      ]
    },
    {
      "cell_type": "code",
      "metadata": {
        "colab": {
          "base_uri": "https://localhost:8080/"
        },
        "id": "DDqmqnLPvA1x",
        "outputId": "01ccddb3-8da6-4c2f-85a6-e2a621aad040"
      },
      "source": [
        "input_dim = 2\n",
        "output_dim = 1\n",
        "W = tf.Variable(initial_value=tf.random.uniform(shape=(input_dim, output_dim)))\n",
        "b = tf.Variable(initial_value=tf.zeros(shape=(output_dim,)))\n",
        "print(W) # (2x1 vector of starting weights)\n",
        "print(b) # (Scalar bias value)"
      ],
      "execution_count": null,
      "outputs": [
        {
          "output_type": "stream",
          "text": [
            "<tf.Variable 'Variable:0' shape=(2, 1) dtype=float32, numpy=\n",
            "array([[0.28127086],\n",
            "       [0.8216218 ]], dtype=float32)>\n",
            "<tf.Variable 'Variable:0' shape=(1,) dtype=float32, numpy=array([0.], dtype=float32)>\n"
          ],
          "name": "stdout"
        }
      ]
    },
    {
      "cell_type": "markdown",
      "metadata": {
        "id": "1R_z5Xqy7SJ3"
      },
      "source": [
        "Define the forward pass function"
      ]
    },
    {
      "cell_type": "code",
      "metadata": {
        "id": "a93l3TCF69vp"
      },
      "source": [
        "def model(inputs):\n",
        "  return tf.matmul(inputs, W) + b"
      ],
      "execution_count": null,
      "outputs": []
    },
    {
      "cell_type": "markdown",
      "metadata": {
        "id": "qnGXzcyr7c4S"
      },
      "source": [
        "Define the loss function"
      ]
    },
    {
      "cell_type": "code",
      "metadata": {
        "id": "S0NBoYrL7aUx"
      },
      "source": [
        "def square_loss(targets, predictions):\n",
        "  per_sample_losses = tf.square(targets - predictions)\n",
        "  return tf.reduce_mean(per_sample_losses) # collapse to scalar"
      ],
      "execution_count": null,
      "outputs": []
    },
    {
      "cell_type": "markdown",
      "metadata": {
        "id": "j7-s7kan7xf9"
      },
      "source": [
        "Define training function"
      ]
    },
    {
      "cell_type": "code",
      "metadata": {
        "id": "4XHWsCe07vLz"
      },
      "source": [
        "learning_rate = 0.1\n",
        "\n",
        "def training_step(inputs, targets):\n",
        "  with tf.GradientTape() as tape:\n",
        "    predictions = model(inputs)\n",
        "    loss = square_loss(targets, predictions) #Pretty sure this is backwards in book\n",
        "  #Calculate the gradient of the loss function wrt the weights and bias values\n",
        "  grad_loss_wrt_W, grad_loss_wrt_b = tape.gradient(loss, [W, b])\n",
        "  #Update the weights and biases, scaled by the learning rate\n",
        "  W.assign_sub(grad_loss_wrt_W * learning_rate)\n",
        "  b.assign_sub(grad_loss_wrt_b * learning_rate)\n",
        "  return loss"
      ],
      "execution_count": null,
      "outputs": []
    },
    {
      "cell_type": "markdown",
      "metadata": {
        "id": "ahhQ7k3R9L8E"
      },
      "source": [
        "Run training over multiple epochs"
      ]
    },
    {
      "cell_type": "code",
      "metadata": {
        "colab": {
          "base_uri": "https://localhost:8080/"
        },
        "id": "j-lfGYqW9JRz",
        "outputId": "6fb11982-110e-4bbc-8d42-598b6f88feac"
      },
      "source": [
        "for step in range(20):\n",
        "  loss = training_step(inputs, targets)\n",
        "  print(f\"Loss at step {step}: {loss:.4f}\")"
      ],
      "execution_count": null,
      "outputs": [
        {
          "output_type": "stream",
          "text": [
            "Loss at step 0: 4.0966\n",
            "Loss at step 1: 0.4322\n",
            "Loss at step 2: 0.1661\n",
            "Loss at step 3: 0.1207\n",
            "Loss at step 4: 0.1075\n",
            "Loss at step 5: 0.0995\n",
            "Loss at step 6: 0.0928\n",
            "Loss at step 7: 0.0868\n",
            "Loss at step 8: 0.0813\n",
            "Loss at step 9: 0.0763\n",
            "Loss at step 10: 0.0718\n",
            "Loss at step 11: 0.0676\n",
            "Loss at step 12: 0.0638\n",
            "Loss at step 13: 0.0603\n",
            "Loss at step 14: 0.0572\n",
            "Loss at step 15: 0.0543\n",
            "Loss at step 16: 0.0517\n",
            "Loss at step 17: 0.0493\n",
            "Loss at step 18: 0.0471\n",
            "Loss at step 19: 0.0451\n"
          ],
          "name": "stdout"
        }
      ]
    },
    {
      "cell_type": "markdown",
      "metadata": {
        "id": "02Ag48Kr9hbm"
      },
      "source": [
        "Plot the results"
      ]
    },
    {
      "cell_type": "code",
      "metadata": {
        "colab": {
          "base_uri": "https://localhost:8080/",
          "height": 402
        },
        "id": "r7vkbZB19Zi9",
        "outputId": "ccd87438-2828-48a1-fe7a-b7b93b68df75"
      },
      "source": [
        "predictions = model(inputs)\n",
        "print(predictions)\n",
        "#Slighly updated from book to convert probabilistic predictions to two categories\n",
        "plt.scatter(inputs[:,0], inputs[:,1], c=predictions[:,0]>0.5)\n",
        "plt.show()"
      ],
      "execution_count": null,
      "outputs": [
        {
          "output_type": "stream",
          "text": [
            "tf.Tensor(\n",
            "[[-0.48722148]\n",
            " [-0.22392309]\n",
            " [ 0.03493734]\n",
            " ...\n",
            " [ 0.7194888 ]\n",
            " [ 0.69514215]\n",
            " [ 0.9913631 ]], shape=(2000, 1), dtype=float32)\n"
          ],
          "name": "stdout"
        },
        {
          "output_type": "display_data",
          "data": {
            "image/png": "[encoded data removed]",
            "text/plain": [
              "<Figure size 432x288 with 1 Axes>"
            ]
          },
          "metadata": {
            "tags": [],
            "needs_background": "light"
          }
        }
      ]
    },
    {
      "cell_type": "markdown",
      "metadata": {
        "id": "XcYTOvQ8-RJQ"
      },
      "source": [
        "Add the classification line"
      ]
    },
    {
      "cell_type": "code",
      "metadata": {
        "colab": {
          "base_uri": "https://localhost:8080/",
          "height": 282
        },
        "id": "KjfjS2ve9rbB",
        "outputId": "2aa4cd9a-00f9-49cb-9e26-0e48b5a6c851"
      },
      "source": [
        "x = np.linspace(-1,4,100)\n",
        "y = - W[0]/W[1]*x + (0.5-b)/W[1]\n",
        "plt.plot(x,y,\"-r\")\n",
        "plt.scatter(inputs[:,0], inputs[:,1], c=predictions[:,0]>0.5)"
      ],
      "execution_count": null,
      "outputs": [
        {
          "output_type": "execute_result",
          "data": {
            "text/plain": [
              "<matplotlib.collections.PathCollection at 0x7f9de5fa9850>"
            ]
          },
          "metadata": {
            "tags": []
          },
          "execution_count": 76
        },
        {
          "output_type": "display_data",
          "data": {
            "image/png": "[encoded data removed]",
            "text/plain": [
              "<Figure size 432x288 with 1 Axes>"
            ]
          },
          "metadata": {
            "tags": [],
            "needs_background": "light"
          }
        }
      ]
    },
    {
      "cell_type": "markdown",
      "metadata": {
        "id": "Nr1BxRYT-4x7"
      },
      "source": [
        "## Using Keras Layers"
      ]
    },
    {
      "cell_type": "code",
      "metadata": {
        "id": "j-SwvH---lu5"
      },
      "source": [
        ""
      ],
      "execution_count": null,
      "outputs": []
    }
  ]
}