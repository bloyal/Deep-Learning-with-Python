{
  "nbformat": 4,
  "nbformat_minor": 0,
  "metadata": {
    "colab": {
      "name": "Deep_Learning_With_Python-Chapter_3.ipynb",
      "provenance": [],
      "collapsed_sections": [],
      "authorship_tag": "ABX9TyNqLuVkOBi3vAODO4PUPNYj",
      "include_colab_link": true
    },
    "kernelspec": {
      "name": "python3",
      "display_name": "Python 3"
    },
    "language_info": {
      "name": "python"
    }
  },
  "cells": [
    {
      "cell_type": "markdown",
      "metadata": {
        "id": "view-in-github",
        "colab_type": "text"
      },
      "source": [
        "<a href=\"https://colab.research.google.com/github/bloyal/Deep-Learning-with-Python/blob/main/Deep_Learning_With_Python_Chapter_3.ipynb\" target=\"_parent\"><img src=\"https://colab.research.google.com/assets/colab-badge.svg\" alt=\"Open In Colab\"/></a>"
      ]
    },
    {
      "cell_type": "code",
      "metadata": {
        "id": "2z_x4tdhjxYB"
      },
      "source": [
        "import tensorflow as tf"
      ],
      "execution_count": 1,
      "outputs": []
    },
    {
      "cell_type": "markdown",
      "metadata": {
        "id": "RzlmSEU3k3ll"
      },
      "source": [
        "## Constant tensors and Variables"
      ]
    },
    {
      "cell_type": "code",
      "metadata": {
        "colab": {
          "base_uri": "https://localhost:8080/"
        },
        "id": "aFuAwthYj5fr",
        "outputId": "16e2a13f-d57b-4176-fe9f-665d969053eb"
      },
      "source": [
        "x = tf.ones(shape=(2,1))\n",
        "print(x)"
      ],
      "execution_count": 2,
      "outputs": [
        {
          "output_type": "stream",
          "text": [
            "tf.Tensor(\n",
            "[[1.]\n",
            " [1.]], shape=(2, 1), dtype=float32)\n"
          ],
          "name": "stdout"
        }
      ]
    },
    {
      "cell_type": "code",
      "metadata": {
        "colab": {
          "base_uri": "https://localhost:8080/"
        },
        "id": "egg7KzESkAKC",
        "outputId": "b6c436c6-dd66-4066-909d-080f8ab6d50f"
      },
      "source": [
        "x = tf.zeros([2,1])\n",
        "print(x)"
      ],
      "execution_count": 3,
      "outputs": [
        {
          "output_type": "stream",
          "text": [
            "tf.Tensor(\n",
            "[[0.]\n",
            " [0.]], shape=(2, 1), dtype=float32)\n"
          ],
          "name": "stdout"
        }
      ]
    },
    {
      "cell_type": "code",
      "metadata": {
        "colab": {
          "base_uri": "https://localhost:8080/"
        },
        "id": "c0C9haLCkBTg",
        "outputId": "6414d84e-1591-4493-a9ee-19cf5f048306"
      },
      "source": [
        "x = tf.random.normal([3,1], mean=0., stddev=1.)\n",
        "print(x)"
      ],
      "execution_count": 4,
      "outputs": [
        {
          "output_type": "stream",
          "text": [
            "tf.Tensor(\n",
            "[[ 1.1421423 ]\n",
            " [-1.1470977 ]\n",
            " [ 0.54192114]], shape=(3, 1), dtype=float32)\n"
          ],
          "name": "stdout"
        }
      ]
    },
    {
      "cell_type": "code",
      "metadata": {
        "colab": {
          "base_uri": "https://localhost:8080/"
        },
        "id": "7kyBd5p4kV9X",
        "outputId": "ce8d00b6-bcfe-447b-c200-6a64a2766a6d"
      },
      "source": [
        "x = tf.random.uniform([3,1], minval=0., maxval=1.)\n",
        "print(x)"
      ],
      "execution_count": 5,
      "outputs": [
        {
          "output_type": "stream",
          "text": [
            "tf.Tensor(\n",
            "[[0.958539 ]\n",
            " [0.7421893]\n",
            " [0.7128018]], shape=(3, 1), dtype=float32)\n"
          ],
          "name": "stdout"
        }
      ]
    },
    {
      "cell_type": "code",
      "metadata": {
        "id": "yJY62fH8kfwM"
      },
      "source": [
        "import numpy as np"
      ],
      "execution_count": 6,
      "outputs": []
    },
    {
      "cell_type": "markdown",
      "metadata": {
        "id": "--rumNBZk91d"
      },
      "source": [
        "Tf tensors aren't assignable, like Numpy arrays"
      ]
    },
    {
      "cell_type": "code",
      "metadata": {
        "colab": {
          "base_uri": "https://localhost:8080/"
        },
        "id": "tOS_E3jMkmH-",
        "outputId": "3c6e0a8e-9f82-4cc2-e1c0-f90c15769ed6"
      },
      "source": [
        "x = np.ones(shape=(2,2))\n",
        "print(x)\n",
        "x[0,0] = 2\n",
        "print(x)"
      ],
      "execution_count": 7,
      "outputs": [
        {
          "output_type": "stream",
          "text": [
            "[[1. 1.]\n",
            " [1. 1.]]\n",
            "[[2. 1.]\n",
            " [1. 1.]]\n"
          ],
          "name": "stdout"
        }
      ]
    },
    {
      "cell_type": "code",
      "metadata": {
        "colab": {
          "base_uri": "https://localhost:8080/",
          "height": 232
        },
        "id": "UjyiuJe9kprz",
        "outputId": "5f637d46-dc68-4c6e-b330-b4dfc47f9359"
      },
      "source": [
        "x = tf.ones([2,2])\n",
        "x[0,0]=2"
      ],
      "execution_count": 8,
      "outputs": [
        {
          "output_type": "error",
          "ename": "TypeError",
          "evalue": "ignored",
          "traceback": [
            "\u001b[0;31m---------------------------------------------------------------------------\u001b[0m",
            "\u001b[0;31mTypeError\u001b[0m                                 Traceback (most recent call last)",
            "\u001b[0;32m<ipython-input-8-324665e703d6>\u001b[0m in \u001b[0;36m<module>\u001b[0;34m()\u001b[0m\n\u001b[1;32m      1\u001b[0m \u001b[0mx\u001b[0m \u001b[0;34m=\u001b[0m \u001b[0mtf\u001b[0m\u001b[0;34m.\u001b[0m\u001b[0mones\u001b[0m\u001b[0;34m(\u001b[0m\u001b[0;34m[\u001b[0m\u001b[0;36m2\u001b[0m\u001b[0;34m,\u001b[0m\u001b[0;36m2\u001b[0m\u001b[0;34m]\u001b[0m\u001b[0;34m)\u001b[0m\u001b[0;34m\u001b[0m\u001b[0;34m\u001b[0m\u001b[0m\n\u001b[0;32m----> 2\u001b[0;31m \u001b[0mx\u001b[0m\u001b[0;34m[\u001b[0m\u001b[0;36m0\u001b[0m\u001b[0;34m,\u001b[0m\u001b[0;36m0\u001b[0m\u001b[0;34m]\u001b[0m\u001b[0;34m=\u001b[0m\u001b[0;36m2\u001b[0m\u001b[0;34m\u001b[0m\u001b[0;34m\u001b[0m\u001b[0m\n\u001b[0m",
            "\u001b[0;31mTypeError\u001b[0m: 'tensorflow.python.framework.ops.EagerTensor' object does not support item assignment"
          ]
        }
      ]
    },
    {
      "cell_type": "code",
      "metadata": {
        "id": "FJ_J5XErkxNb"
      },
      "source": [
        ""
      ],
      "execution_count": 8,
      "outputs": []
    },
    {
      "cell_type": "markdown",
      "metadata": {
        "id": "MLAmiFuQlFt_"
      },
      "source": [
        "Need to create a tf.Variable instead"
      ]
    },
    {
      "cell_type": "code",
      "metadata": {
        "colab": {
          "base_uri": "https://localhost:8080/"
        },
        "id": "d3cJO4ynlHd7",
        "outputId": "d723ce83-6100-4584-d1b5-475c7a65529f"
      },
      "source": [
        "v = tf.Variable(initial_value=tf.random.normal([3,1]))\n",
        "print(v)"
      ],
      "execution_count": 9,
      "outputs": [
        {
          "output_type": "stream",
          "text": [
            "<tf.Variable 'Variable:0' shape=(3, 1) dtype=float32, numpy=\n",
            "array([[-0.3231388],\n",
            "       [ 0.3671157],\n",
            "       [-1.0971773]], dtype=float32)>\n"
          ],
          "name": "stdout"
        }
      ]
    },
    {
      "cell_type": "code",
      "metadata": {
        "colab": {
          "base_uri": "https://localhost:8080/"
        },
        "id": "f81SUxcElOLi",
        "outputId": "74f04c0e-adc7-4639-8417-54b73184d7a6"
      },
      "source": [
        "v.assign(tf.ones((3,1)))"
      ],
      "execution_count": 10,
      "outputs": [
        {
          "output_type": "execute_result",
          "data": {
            "text/plain": [
              "<tf.Variable 'UnreadVariable' shape=(3, 1) dtype=float32, numpy=\n",
              "array([[1.],\n",
              "       [1.],\n",
              "       [1.]], dtype=float32)>"
            ]
          },
          "metadata": {
            "tags": []
          },
          "execution_count": 10
        }
      ]
    },
    {
      "cell_type": "code",
      "metadata": {
        "colab": {
          "base_uri": "https://localhost:8080/"
        },
        "id": "D54FRvKWlYG0",
        "outputId": "6097c70c-7f6f-4093-aea5-f331289fddb8"
      },
      "source": [
        "v[0,0].assign(3.)"
      ],
      "execution_count": 11,
      "outputs": [
        {
          "output_type": "execute_result",
          "data": {
            "text/plain": [
              "<tf.Variable 'UnreadVariable' shape=(3, 1) dtype=float32, numpy=\n",
              "array([[3.],\n",
              "       [1.],\n",
              "       [1.]], dtype=float32)>"
            ]
          },
          "metadata": {
            "tags": []
          },
          "execution_count": 11
        }
      ]
    },
    {
      "cell_type": "code",
      "metadata": {
        "colab": {
          "base_uri": "https://localhost:8080/"
        },
        "id": "B8yPDHxblcZZ",
        "outputId": "62556243-2db1-4ad0-b925-71b2c2b3ef6d"
      },
      "source": [
        "v.assign_add(tf.ones((3,1)))"
      ],
      "execution_count": 12,
      "outputs": [
        {
          "output_type": "execute_result",
          "data": {
            "text/plain": [
              "<tf.Variable 'UnreadVariable' shape=(3, 1) dtype=float32, numpy=\n",
              "array([[4.],\n",
              "       [2.],\n",
              "       [2.]], dtype=float32)>"
            ]
          },
          "metadata": {
            "tags": []
          },
          "execution_count": 12
        }
      ]
    },
    {
      "cell_type": "code",
      "metadata": {
        "id": "BI3ev3r-lhWz"
      },
      "source": [
        ""
      ],
      "execution_count": 12,
      "outputs": []
    },
    {
      "cell_type": "markdown",
      "metadata": {
        "id": "EHGqiA2hlliC"
      },
      "source": [
        "Doing math in TensorFlow"
      ]
    },
    {
      "cell_type": "code",
      "metadata": {
        "colab": {
          "base_uri": "https://localhost:8080/"
        },
        "id": "-jFHXLfslnm5",
        "outputId": "a4c0d246-9750-460b-a467-b3efdeced390"
      },
      "source": [
        "a = tf.ones((2,2)) * 2\n",
        "print (a)\n",
        "b = tf.square(a)\n",
        "print(b)\n",
        "c = tf.sqrt(b)\n",
        "print(c)\n",
        "d = b + c\n",
        "print(d)\n",
        "e = tf.matmul(a,b)\n",
        "print(e)\n",
        "e *= d\n",
        "print(e)"
      ],
      "execution_count": 13,
      "outputs": [
        {
          "output_type": "stream",
          "text": [
            "tf.Tensor(\n",
            "[[2. 2.]\n",
            " [2. 2.]], shape=(2, 2), dtype=float32)\n",
            "tf.Tensor(\n",
            "[[4. 4.]\n",
            " [4. 4.]], shape=(2, 2), dtype=float32)\n",
            "tf.Tensor(\n",
            "[[2. 2.]\n",
            " [2. 2.]], shape=(2, 2), dtype=float32)\n",
            "tf.Tensor(\n",
            "[[6. 6.]\n",
            " [6. 6.]], shape=(2, 2), dtype=float32)\n",
            "tf.Tensor(\n",
            "[[16. 16.]\n",
            " [16. 16.]], shape=(2, 2), dtype=float32)\n",
            "tf.Tensor(\n",
            "[[96. 96.]\n",
            " [96. 96.]], shape=(2, 2), dtype=float32)\n"
          ],
          "name": "stdout"
        }
      ]
    },
    {
      "cell_type": "markdown",
      "metadata": {
        "id": "HBwFDKxOmPvm"
      },
      "source": [
        "## GradientTape API"
      ]
    },
    {
      "cell_type": "markdown",
      "metadata": {
        "id": "tbmFgbNKmplv"
      },
      "source": [
        "(In this example, result = X^2 and gradient = 2*X)"
      ]
    },
    {
      "cell_type": "code",
      "metadata": {
        "colab": {
          "base_uri": "https://localhost:8080/"
        },
        "id": "4L7-RQH1lxfW",
        "outputId": "aad8e826-50e9-48a4-d1eb-ca7b6b019412"
      },
      "source": [
        "input_var = tf.Variable(initial_value=3.)\n",
        "print(input_var)\n",
        "with tf.GradientTape() as tape:\n",
        "  result = tf.square(input_var)\n",
        "gradient = tape.gradient(result, input_var)\n",
        "print(gradient)"
      ],
      "execution_count": 14,
      "outputs": [
        {
          "output_type": "stream",
          "text": [
            "<tf.Variable 'Variable:0' shape=() dtype=float32, numpy=3.0>\n",
            "tf.Tensor(6.0, shape=(), dtype=float32)\n"
          ],
          "name": "stdout"
        }
      ]
    },
    {
      "cell_type": "markdown",
      "metadata": {
        "id": "Q60yeuDbm0pL"
      },
      "source": [
        "Watching constant tensor inputs"
      ]
    },
    {
      "cell_type": "code",
      "metadata": {
        "colab": {
          "base_uri": "https://localhost:8080/"
        },
        "id": "_7nM-2Elm2zS",
        "outputId": "41d8d079-c4ca-41d7-8eb8-e4ea4c999f7b"
      },
      "source": [
        "input_const = tf.constant(3.)\n",
        "with tf.GradientTape() as tape:\n",
        "  tape.watch(input_const)\n",
        "  result = tf.square(input_const)\n",
        "gradient = tape.gradient(result, input_const)\n",
        "print(input_const)\n",
        "print(gradient)"
      ],
      "execution_count": 15,
      "outputs": [
        {
          "output_type": "stream",
          "text": [
            "tf.Tensor(3.0, shape=(), dtype=float32)\n",
            "tf.Tensor(6.0, shape=(), dtype=float32)\n"
          ],
          "name": "stdout"
        }
      ]
    },
    {
      "cell_type": "markdown",
      "metadata": {
        "id": "ypKO9DbZnRd7"
      },
      "source": [
        "Computing second-order gradients (i.e. second derivatives)"
      ]
    },
    {
      "cell_type": "code",
      "metadata": {
        "colab": {
          "base_uri": "https://localhost:8080/"
        },
        "id": "nC6BaPbcnJ80",
        "outputId": "e48949cb-ce8a-4aa3-c4a7-5e78f2667fbb"
      },
      "source": [
        "time = tf.Variable(0.)\n",
        "with tf.GradientTape() as outer_tape:\n",
        "  with tf.GradientTape() as inner_tape:\n",
        "    position = 4.9 * time ** 2\n",
        "  speed = inner_tape.gradient(position, time)\n",
        "acceleration = outer_tape.gradient(speed, time)\n",
        "print(\"Time is {time:.2f}\".format(time=2))\n",
        "print(speed)\n",
        "print(position)\n",
        "print(acceleration)"
      ],
      "execution_count": 16,
      "outputs": [
        {
          "output_type": "stream",
          "text": [
            "Time is 2.00\n",
            "tf.Tensor(0.0, shape=(), dtype=float32)\n",
            "tf.Tensor(0.0, shape=(), dtype=float32)\n",
            "tf.Tensor(9.8, shape=(), dtype=float32)\n"
          ],
          "name": "stdout"
        }
      ]
    },
    {
      "cell_type": "markdown",
      "metadata": {
        "id": "s6EbfyEctiFi"
      },
      "source": [
        "## E2E linear classifier in pure TF"
      ]
    },
    {
      "cell_type": "markdown",
      "metadata": {
        "id": "0Gvc3_aptnzx"
      },
      "source": [
        "Create some random data"
      ]
    },
    {
      "cell_type": "code",
      "metadata": {
        "id": "B9r3AJPYnxhF",
        "colab": {
          "base_uri": "https://localhost:8080/"
        },
        "outputId": "a4b97ae5-7941-49be-ccea-fefb0aff1391"
      },
      "source": [
        "num_samples_per_class = 1000\n",
        "negative_samples = np.random.multivariate_normal(mean=[0,3], cov=[[1, 0.5],[0.5,1]], size=num_samples_per_class)\n",
        "positive_samples = np.random.multivariate_normal(mean=[3,0], cov=[[1, 0.5],[0.5,1]], size=num_samples_per_class)\n",
        "print(negative_samples)\n",
        "print(positive_samples)\n",
        "inputs = np.vstack((negative_samples, positive_samples)).astype(np.float32)\n",
        "print(inputs)"
      ],
      "execution_count": 20,
      "outputs": [
        {
          "output_type": "stream",
          "text": [
            "[[ 0.43718678  3.51403844]\n",
            " [ 0.40751711  3.20271549]\n",
            " [-0.19330749  2.44843398]\n",
            " ...\n",
            " [-0.26425024  1.19097128]\n",
            " [ 1.36333627  2.36127181]\n",
            " [ 0.01594039  2.22019745]]\n",
            "[[ 3.03152982 -0.13383056]\n",
            " [ 3.97921143  0.83740073]\n",
            " [ 3.95018421 -0.38353037]\n",
            " ...\n",
            " [ 1.19563978 -0.95679292]\n",
            " [ 2.67321484 -1.25469417]\n",
            " [ 3.02087152  1.62960855]]\n",
            "[[ 0.43718678  3.5140383 ]\n",
            " [ 0.4075171   3.2027154 ]\n",
            " [-0.19330749  2.4484339 ]\n",
            " ...\n",
            " [ 1.1956397  -0.95679295]\n",
            " [ 2.673215   -1.2546942 ]\n",
            " [ 3.0208714   1.6296085 ]]\n"
          ],
          "name": "stdout"
        }
      ]
    },
    {
      "cell_type": "markdown",
      "metadata": {
        "id": "RZC0ErmyuhX4"
      },
      "source": [
        "Generate target labels"
      ]
    },
    {
      "cell_type": "code",
      "metadata": {
        "colab": {
          "base_uri": "https://localhost:8080/"
        },
        "id": "9QEmy5PyuGlc",
        "outputId": "4b410494-7a1b-4a8a-9fb4-2b88451aeeb8"
      },
      "source": [
        "targets = np.vstack((np.zeros((num_samples_per_class, 1), dtype='float32'),\n",
        "                     np.ones((num_samples_per_class, 1), dtype='float32')))\n",
        "print(targets)"
      ],
      "execution_count": 21,
      "outputs": [
        {
          "output_type": "stream",
          "text": [
            "[[0.]\n",
            " [0.]\n",
            " [0.]\n",
            " ...\n",
            " [1.]\n",
            " [1.]\n",
            " [1.]]\n"
          ],
          "name": "stdout"
        }
      ]
    },
    {
      "cell_type": "markdown",
      "metadata": {
        "id": "fK1w3xasu5tB"
      },
      "source": [
        "Plot input data"
      ]
    },
    {
      "cell_type": "code",
      "metadata": {
        "colab": {
          "base_uri": "https://localhost:8080/",
          "height": 265
        },
        "id": "SXrRpdrmuyE_",
        "outputId": "516b5456-298f-4150-ad2e-423ef9c46bb7"
      },
      "source": [
        "import matplotlib.pyplot as plt\n",
        "plt.scatter(inputs[:,0], inputs[:,1], c=targets[:,0])\n",
        "plt.show()"
      ],
      "execution_count": 22,
      "outputs": [
        {
          "output_type": "display_data",
          "data": {
            "image/png": "[encoded data removed]",
            "text/plain": [
              "<Figure size 432x288 with 1 Axes>"
            ]
          },
          "metadata": {
            "tags": [],
            "needs_background": "light"
          }
        }
      ]
    },
    {
      "cell_type": "markdown",
      "metadata": {
        "id": "DSgS5Quv6mIi"
      },
      "source": [
        "Create the variables needed for the linear classifier"
      ]
    },
    {
      "cell_type": "code",
      "metadata": {
        "colab": {
          "base_uri": "https://localhost:8080/"
        },
        "id": "DDqmqnLPvA1x",
        "outputId": "242661f0-9759-4199-9ae8-188e5a5826cf"
      },
      "source": [
        "input_dim = 2\n",
        "output_dim = 1\n",
        "W = tf.Variable(initial_value=tf.random.uniform(shape=(input_dim, output_dim)))\n",
        "b = tf.Variable(initial_value=tf.zeros(shape=(output_dim,)))\n",
        "print(W) # (2x1 vector of starting weights)\n",
        "print(b) # (Scalar bias value)"
      ],
      "execution_count": 24,
      "outputs": [
        {
          "output_type": "stream",
          "text": [
            "<tf.Variable 'Variable:0' shape=(2, 1) dtype=float32, numpy=\n",
            "array([[0.82070124],\n",
            "       [0.3864491 ]], dtype=float32)>\n",
            "<tf.Variable 'Variable:0' shape=(1,) dtype=float32, numpy=array([0.], dtype=float32)>\n"
          ],
          "name": "stdout"
        }
      ]
    },
    {
      "cell_type": "markdown",
      "metadata": {
        "id": "1R_z5Xqy7SJ3"
      },
      "source": [
        "Define the forward pass function"
      ]
    },
    {
      "cell_type": "code",
      "metadata": {
        "id": "a93l3TCF69vp"
      },
      "source": [
        "def model(inputs):\n",
        "  return tf.matmul(inputs, W) + b"
      ],
      "execution_count": 25,
      "outputs": []
    },
    {
      "cell_type": "markdown",
      "metadata": {
        "id": "qnGXzcyr7c4S"
      },
      "source": [
        "Define the loss function"
      ]
    },
    {
      "cell_type": "code",
      "metadata": {
        "id": "S0NBoYrL7aUx"
      },
      "source": [
        "def square_loss(targets, predictions):\n",
        "  per_sample_losses = tf.square(targets - predictions)\n",
        "  return tf.reduce_mean(per_sample_losses) # collapse to scalar"
      ],
      "execution_count": 26,
      "outputs": []
    },
    {
      "cell_type": "markdown",
      "metadata": {
        "id": "j7-s7kan7xf9"
      },
      "source": [
        "Define training function"
      ]
    },
    {
      "cell_type": "code",
      "metadata": {
        "id": "4XHWsCe07vLz"
      },
      "source": [
        "learning_rate = 0.1\n",
        "\n",
        "def training_step(inputs, targets):\n",
        "  with tf.GradientTape() as tape:\n",
        "    predictions = model(inputs)\n",
        "    loss = square_loss(targets, predictions) #Pretty sure this is backwards in book\n",
        "  #Calculate the gradient of the loss function wrt the weights and bias values\n",
        "  grad_loss_wrt_W, grad_loss_wrt_b = tape.gradient(loss, [W, b])\n",
        "  #Update the weights and biases, scaled by the learning rate\n",
        "  W.assign_sub(grad_loss_wrt_W * learning_rate)\n",
        "  b.assign_sub(grad_loss_wrt_b * learning_rate)\n",
        "  return loss"
      ],
      "execution_count": 27,
      "outputs": []
    },
    {
      "cell_type": "markdown",
      "metadata": {
        "id": "ahhQ7k3R9L8E"
      },
      "source": [
        "Run training over multiple epochs"
      ]
    },
    {
      "cell_type": "code",
      "metadata": {
        "colab": {
          "base_uri": "https://localhost:8080/"
        },
        "id": "j-lfGYqW9JRz",
        "outputId": "ce98819f-7a22-4d00-abcc-7687bb990bce"
      },
      "source": [
        "for step in range(20):\n",
        "  loss = training_step(inputs, targets)\n",
        "  print(f\"Loss at step {step}: {loss:.4f}\")"
      ],
      "execution_count": 28,
      "outputs": [
        {
          "output_type": "stream",
          "text": [
            "Loss at step 0: 2.7838\n",
            "Loss at step 1: 0.4015\n",
            "Loss at step 2: 0.1621\n",
            "Loss at step 3: 0.1295\n",
            "Loss at step 4: 0.1181\n",
            "Loss at step 5: 0.1095\n",
            "Loss at step 6: 0.1018\n",
            "Loss at step 7: 0.0949\n",
            "Loss at step 8: 0.0886\n",
            "Loss at step 9: 0.0829\n",
            "Loss at step 10: 0.0777\n",
            "Loss at step 11: 0.0729\n",
            "Loss at step 12: 0.0686\n",
            "Loss at step 13: 0.0647\n",
            "Loss at step 14: 0.0611\n",
            "Loss at step 15: 0.0579\n",
            "Loss at step 16: 0.0549\n",
            "Loss at step 17: 0.0522\n",
            "Loss at step 18: 0.0498\n",
            "Loss at step 19: 0.0476\n"
          ],
          "name": "stdout"
        }
      ]
    },
    {
      "cell_type": "markdown",
      "metadata": {
        "id": "02Ag48Kr9hbm"
      },
      "source": [
        "Plot the results"
      ]
    },
    {
      "cell_type": "code",
      "metadata": {
        "colab": {
          "base_uri": "https://localhost:8080/",
          "height": 401
        },
        "id": "r7vkbZB19Zi9",
        "outputId": "7e12fa5e-a28c-4d0e-fd5c-5006b233ee28"
      },
      "source": [
        "predictions = model(inputs)\n",
        "print(predictions)\n",
        "#Slighly updated from book to convert probabilistic predictions to two categories\n",
        "plt.scatter(inputs[:,0], inputs[:,1], c=predictions[:,0]>0.5)\n",
        "plt.show()"
      ],
      "execution_count": 29,
      "outputs": [
        {
          "output_type": "stream",
          "text": [
            "tf.Tensor(\n",
            "[[ 0.03702003]\n",
            " [ 0.05522633]\n",
            " [-0.01937161]\n",
            " ...\n",
            " [ 0.56431746]\n",
            " [ 0.91971886]\n",
            " [ 0.76737666]], shape=(2000, 1), dtype=float32)\n"
          ],
          "name": "stdout"
        },
        {
          "output_type": "display_data",
          "data": {
            "image/png": "[encoded data removed]",
            "text/plain": [
              "<Figure size 432x288 with 1 Axes>"
            ]
          },
          "metadata": {
            "tags": [],
            "needs_background": "light"
          }
        }
      ]
    },
    {
      "cell_type": "markdown",
      "metadata": {
        "id": "XcYTOvQ8-RJQ"
      },
      "source": [
        "Add the classification line"
      ]
    },
    {
      "cell_type": "code",
      "metadata": {
        "colab": {
          "base_uri": "https://localhost:8080/",
          "height": 282
        },
        "id": "KjfjS2ve9rbB",
        "outputId": "198633eb-3f89-45e3-c0d2-be5e84003fdd"
      },
      "source": [
        "x = np.linspace(-1,4,100)\n",
        "y = - W[0]/W[1]*x + (0.5-b)/W[1]\n",
        "plt.plot(x,y,\"-r\")\n",
        "plt.scatter(inputs[:,0], inputs[:,1], c=predictions[:,0]>0.5)"
      ],
      "execution_count": 30,
      "outputs": [
        {
          "output_type": "execute_result",
          "data": {
            "text/plain": [
              "<matplotlib.collections.PathCollection at 0x7f7b4a32f890>"
            ]
          },
          "metadata": {
            "tags": []
          },
          "execution_count": 30
        },
        {
          "output_type": "display_data",
          "data": {
            "image/png": "[encoded data removed]",
            "text/plain": [
              "<Figure size 432x288 with 1 Axes>"
            ]
          },
          "metadata": {
            "tags": [],
            "needs_background": "light"
          }
        }
      ]
    },
    {
      "cell_type": "markdown",
      "metadata": {
        "id": "Nr1BxRYT-4x7"
      },
      "source": [
        "## Using Keras Layers"
      ]
    },
    {
      "cell_type": "markdown",
      "metadata": {
        "id": "40gPSCcplwa7"
      },
      "source": [
        "Reproducing the `NaiveDense` class using Keras layers"
      ]
    },
    {
      "cell_type": "code",
      "metadata": {
        "id": "j-SwvH---lu5"
      },
      "source": [
        "from tensorflow import keras\n",
        "\n",
        "class SimpleDense(keras.layers.Layer):\n",
        "\n",
        "  def __init__(self, units, activation=None):\n",
        "    super().__init__()\n",
        "    self.units = units\n",
        "    self.activation = activation\n",
        "\n",
        "  def build(self, input_shape):\n",
        "    input_dim = input_shape[-1]\n",
        "    self.W = self.add_weight(shape=(input_dim, self.units),\n",
        "                             initializer = \"random_normal\")\n",
        "    self.b = self.add_weight(shape=(self.units,),\n",
        "                             initializer = \"zeros\")\n",
        "    \n",
        "  def call(self, inputs):\n",
        "    y = tf.matmul(inputs, self.W) + self.b\n",
        "    if self.activation is not None:\n",
        "      y = self.activation(y)\n",
        "    return y"
      ],
      "execution_count": 31,
      "outputs": []
    },
    {
      "cell_type": "code",
      "metadata": {
        "colab": {
          "base_uri": "https://localhost:8080/"
        },
        "id": "q_nmvshnm1CA",
        "outputId": "7688da29-84a1-4a48-9649-643b759a5095"
      },
      "source": [
        "my_dense = SimpleDense(units=32, activation=tf.nn.relu)\n",
        "input_tensor = tf.ones((2,784))\n",
        "output_tensor = my_dense(input_tensor)\n",
        "print(output_tensor.shape)"
      ],
      "execution_count": 32,
      "outputs": [
        {
          "output_type": "stream",
          "text": [
            "(2, 32)\n"
          ],
          "name": "stdout"
        }
      ]
    },
    {
      "cell_type": "markdown",
      "metadata": {
        "id": "VS8F3-LCn1g4"
      },
      "source": [
        "Automatic shape inference"
      ]
    },
    {
      "cell_type": "code",
      "metadata": {
        "id": "Zy4NcOUUnmOZ"
      },
      "source": [
        "from tensorflow.keras import layers\n",
        "layer = layers.Dense(32, activation=\"relu\")"
      ],
      "execution_count": 33,
      "outputs": []
    },
    {
      "cell_type": "code",
      "metadata": {
        "id": "HKE6JjJ6n8dv"
      },
      "source": [
        "from tensorflow.keras import models\n",
        "from tensorflow.keras import layers\n",
        "model = models.Sequential([\n",
        "                           layers.Dense(32, activation=\"relu\"),\n",
        "                           layers.Dense(32)\n",
        "])"
      ],
      "execution_count": 34,
      "outputs": []
    },
    {
      "cell_type": "markdown",
      "metadata": {
        "id": "Sz6nOClFpAwg"
      },
      "source": [
        "From layers to models"
      ]
    },
    {
      "cell_type": "code",
      "metadata": {
        "id": "pvBc_U7loOUU"
      },
      "source": [
        "model = keras.Sequential([keras.layers.Dense(1)])\n",
        "model.compile(optimizer=\"rmsprop\",\n",
        "             loss=\"mean_squared_error\",\n",
        "             metrics=[\"accuracy\"])"
      ],
      "execution_count": 36,
      "outputs": []
    },
    {
      "cell_type": "code",
      "metadata": {
        "id": "6ZdzzfXOpNw2"
      },
      "source": [
        "model.compile(optimizer=keras.optimizers.RMSprop(),\n",
        "              loss=keras.losses.MeanSquaredError(),\n",
        "              metrics=[keras.metrics.BinaryAccuracy()])"
      ],
      "execution_count": 38,
      "outputs": []
    },
    {
      "cell_type": "code",
      "metadata": {
        "colab": {
          "base_uri": "https://localhost:8080/"
        },
        "id": "OS_2nXzFpfBi",
        "outputId": "3cf59158-fb57-4080-b0cd-8f5be5922c83"
      },
      "source": [
        "history = model.fit(\n",
        "    inputs,\n",
        "    targets,\n",
        "    epochs=5,\n",
        "    batch_size=128\n",
        ")"
      ],
      "execution_count": 39,
      "outputs": [
        {
          "output_type": "stream",
          "text": [
            "Epoch 1/5\n",
            "16/16 [==============================] - 1s 2ms/step - loss: 5.7910 - binary_accuracy: 0.0045\n",
            "Epoch 2/5\n",
            "16/16 [==============================] - 0s 2ms/step - loss: 5.5134 - binary_accuracy: 0.0050\n",
            "Epoch 3/5\n",
            "16/16 [==============================] - 0s 1ms/step - loss: 5.2808 - binary_accuracy: 0.0055\n",
            "Epoch 4/5\n",
            "16/16 [==============================] - 0s 2ms/step - loss: 5.0589 - binary_accuracy: 0.0060\n",
            "Epoch 5/5\n",
            "16/16 [==============================] - 0s 2ms/step - loss: 4.8415 - binary_accuracy: 0.0070\n"
          ],
          "name": "stdout"
        }
      ]
    },
    {
      "cell_type": "code",
      "metadata": {
        "colab": {
          "base_uri": "https://localhost:8080/"
        },
        "id": "pe4LnsFlp0tK",
        "outputId": "94b2396d-f3c5-46c2-a743-b58621053197"
      },
      "source": [
        "history.history"
      ],
      "execution_count": 40,
      "outputs": [
        {
          "output_type": "execute_result",
          "data": {
            "text/plain": [
              "{'binary_accuracy': [0.0044999998062849045,\n",
              "  0.004999999888241291,\n",
              "  0.005499999970197678,\n",
              "  0.006000000052154064,\n",
              "  0.007000000216066837],\n",
              " 'loss': [5.790950775146484,\n",
              "  5.5133514404296875,\n",
              "  5.280767440795898,\n",
              "  5.058933258056641,\n",
              "  4.841546535491943]}"
            ]
          },
          "metadata": {
            "tags": []
          },
          "execution_count": 40
        }
      ]
    },
    {
      "cell_type": "markdown",
      "metadata": {
        "id": "r9t9a74UqFn9"
      },
      "source": [
        "Using the validation data argument"
      ]
    },
    {
      "cell_type": "code",
      "metadata": {
        "colab": {
          "base_uri": "https://localhost:8080/"
        },
        "id": "K-XjIEjPp84s",
        "outputId": "74389d89-cdae-4dc4-f58a-19fe284cabd2"
      },
      "source": [
        "model = keras.Sequential([keras.layers.Dense(1)])\n",
        "model.compile(optimizer=keras.optimizers.RMSprop(learning_rate=0.1),\n",
        "              loss=keras.losses.MeanSquaredError(),\n",
        "              metrics=keras.metrics.BinaryAccuracy())\n",
        "\n",
        "#generate a random array of indices\n",
        "indices_permutation = np.random.permutation(len(inputs))\n",
        "#randomly assign inputs to shuffled_inputs\n",
        "shuffled_inputs = inputs[indices_permutation]\n",
        "#randomly assign targets to shuffled_targets\n",
        "shuffled_targets = targets[indices_permutation]\n",
        "\n",
        "#Assign 30% of the inputs and targets to the validation set\n",
        "num_validation_samples = int(0.3 * len(inputs))\n",
        "val_inputs = shuffled_inputs[-num_validation_samples:]\n",
        "val_targets = shuffled_targets[-num_validation_samples:]\n",
        "#Assign another 30% of the inputs and targers to the training set\n",
        "training_inputs = shuffled_inputs[:num_validation_samples]\n",
        "training_targets = shuffled_targets[:num_validation_samples]\n",
        "\n",
        "model.fit(\n",
        "    training_inputs,\n",
        "    training_targets,\n",
        "    epochs=5,\n",
        "    batch_size=16,\n",
        "    validation_data=(val_inputs, val_targets)\n",
        ")\n"
      ],
      "execution_count": 44,
      "outputs": [
        {
          "output_type": "stream",
          "text": [
            "Epoch 1/5\n",
            "38/38 [==============================] - 1s 7ms/step - loss: 0.1354 - binary_accuracy: 0.9467 - val_loss: 0.0600 - val_binary_accuracy: 0.9817\n",
            "Epoch 2/5\n",
            "38/38 [==============================] - 0s 4ms/step - loss: 0.0780 - binary_accuracy: 0.9583 - val_loss: 0.0373 - val_binary_accuracy: 0.9950\n",
            "Epoch 3/5\n",
            "38/38 [==============================] - 0s 3ms/step - loss: 0.0744 - binary_accuracy: 0.9600 - val_loss: 0.0337 - val_binary_accuracy: 0.9967\n",
            "Epoch 4/5\n",
            "38/38 [==============================] - 0s 4ms/step - loss: 0.0754 - binary_accuracy: 0.9600 - val_loss: 0.0359 - val_binary_accuracy: 0.9950\n",
            "Epoch 5/5\n",
            "38/38 [==============================] - 0s 4ms/step - loss: 0.0790 - binary_accuracy: 0.9583 - val_loss: 0.0339 - val_binary_accuracy: 0.9950\n"
          ],
          "name": "stdout"
        },
        {
          "output_type": "execute_result",
          "data": {
            "text/plain": [
              "<tensorflow.python.keras.callbacks.History at 0x7f7b4362a6d0>"
            ]
          },
          "metadata": {
            "tags": []
          },
          "execution_count": 44
        }
      ]
    },
    {
      "cell_type": "code",
      "metadata": {
        "colab": {
          "base_uri": "https://localhost:8080/"
        },
        "id": "4jY_r_gOqa22",
        "outputId": "f60d19e5-d661-4b4a-98a3-f3ffe36a838a"
      },
      "source": [
        "loss_and_metrics = model.evaluate(val_inputs, val_targets, batch_size=128)"
      ],
      "execution_count": 45,
      "outputs": [
        {
          "output_type": "stream",
          "text": [
            "5/5 [==============================] - 0s 3ms/step - loss: 0.0339 - binary_accuracy: 0.9950\n"
          ],
          "name": "stdout"
        }
      ]
    },
    {
      "cell_type": "markdown",
      "metadata": {
        "id": "Z2wtgAVZr_lR"
      },
      "source": [
        "Inference: Using a model after traingin"
      ]
    },
    {
      "cell_type": "code",
      "metadata": {
        "id": "_54aDNAbr7F4"
      },
      "source": [
        "predictions = model.predict(inputs[:10], batch_size=128)"
      ],
      "execution_count": 47,
      "outputs": []
    },
    {
      "cell_type": "code",
      "metadata": {
        "colab": {
          "base_uri": "https://localhost:8080/"
        },
        "id": "CFGkZT70sG7P",
        "outputId": "f37d37af-bb34-4f17-ab06-4071c5b4139a"
      },
      "source": [
        "print(predictions)"
      ],
      "execution_count": 48,
      "outputs": [
        {
          "output_type": "stream",
          "text": [
            "[[-0.04814404]\n",
            " [-0.00232875]\n",
            " [ 0.04256314]\n",
            " [-0.24128711]\n",
            " [ 0.00299609]\n",
            " [ 0.25493327]\n",
            " [-0.00262171]\n",
            " [ 0.09260294]\n",
            " [-0.07096636]\n",
            " [-0.21574706]]\n"
          ],
          "name": "stdout"
        }
      ]
    },
    {
      "cell_type": "code",
      "metadata": {
        "id": "9LoUDDNwsQCF"
      },
      "source": [
        ""
      ],
      "execution_count": null,
      "outputs": []
    }
  ]
}